{
 "cells": [
  {
   "cell_type": "markdown",
   "metadata": {},
   "source": [
    "# ChessGame (Lab 11)"
   ]
  },
  {
   "cell_type": "code",
   "execution_count": 13,
   "metadata": {},
   "outputs": [],
   "source": [
    "import numpy as np\n",
    "\n",
    "%matplotlib inline\n",
    "import matplotlib.pyplot as plt"
   ]
  },
  {
   "cell_type": "code",
   "execution_count": 14,
   "metadata": {},
   "outputs": [],
   "source": [
    "class Chess:\n",
    "    def __init__(self):\n",
    "        self.board = np.ones([8,8,3])\n",
    "        for i in np.ndindex(8,8):\n",
    "            row = i[0]\n",
    "            col = i[1]\n",
    "            # if row%2==0 and col%2==1 or row%2==1 and col%2==0:\n",
    "            if row%2 != col%2:\n",
    "                self.board[row, col] = [0,0,0]\n",
    "            # print(i, self.board[i])\n",
    "    \n",
    "    def add_red(self):\n",
    "        self.rowR=int(input('place the red queen row '))\n",
    "        self.colR=int(input('place the red queen coloumn '))  \n",
    "        while self.rowR < 0 or self.rowR > 7 or self.colR < 0 or self.colR > 7:\n",
    "            print(\"Invalid integer. The number must be in the range of 0-7.\")\n",
    "            self.rowR=int(input('place the red queen row '))\n",
    "            self.colR=int(input('place the red queen coloumn '))  \n",
    "\n",
    "        self.board[self.rowR][self.colR]=[.8,0,0]\n",
    "        \n",
    "        \n",
    "    def add_blue(self):\n",
    "        self.rowB=int(input('place the blue queen row '))\n",
    "        self.colB=int(input('place the blue queen coloumn '))\n",
    "        while self.rowB < 0 or self.rowB > 7 or self.colB < 0 or self.colB > 7:\n",
    "            print(\"Invalid integer. The number must be in the range of 0-7.\")\n",
    "            self.rowB=int(input('place the blue queen row '))\n",
    "            self.colB=int(input('place the blue queen coloumn '))\n",
    "\n",
    "        self.board[self.rowB][self.colB]=[0,0,.8]\n",
    "        \n",
    "    def render(self):\n",
    "        plt.imshow(self.board)\n",
    "    \n",
    "    def is_under_attack(self):\n",
    "        for n in range(8):\n",
    "            if (self.rowB == self.rowR+n and self.colB == self.colR+n) or (self.rowR == self.rowB+n and self.colR == self.colB+n):\n",
    "                return 'UNDER ATTACK'\n",
    "\n",
    "            elif (self.rowB == self.rowR-n and self.colB == self.colR-n) or (self.rowR == self.rowB-n and self.colR == self.colB-n):\n",
    "                return 'UNDER ATTACK'\n",
    "            \n",
    "            elif(self.rowB == self.rowR+n and self.colB == self.colR-n) or (self.rowB == self.rowR-n and self.colB == self.colR+n):\n",
    "                return 'UNDER ATTACK' \n",
    "            \n",
    "            elif (self.rowR == self.rowB+n and self.colR == self.colB-n) or (self.rowR == self.rowB-n and self.colR == self.colB+n):\n",
    "                return 'UNDER ATTACK'\n",
    "\n",
    "                \n",
    "        if self.rowB == self.rowR:\n",
    "            return 'UNDER ATTACK'\n",
    "        \n",
    "        elif self.colB == self.colR:\n",
    "            return 'UNDER ATTACK'\n",
    "\n",
    "        else:\n",
    "            return \"NOT UNDER ATTACK\"\n",
    "    "
   ]
  },
  {
   "cell_type": "code",
   "execution_count": 15,
   "metadata": {
    "jp-MarkdownHeadingCollapsed": true,
    "tags": []
   },
   "outputs": [
    {
     "data": {
      "text/plain": [
       "'UNDER ATTACK'"
      ]
     },
     "execution_count": 15,
     "metadata": {},
     "output_type": "execute_result"
    },
    {
     "data": {
      "image/png": "[encoded data removed]",
      "text/plain": [
       "<Figure size 432x288 with 1 Axes>"
      ]
     },
     "metadata": {
      "needs_background": "light"
     },
     "output_type": "display_data"
    }
   ],
   "source": [
    "chess_board = Chess()\n",
    "chess_board.add_blue()\n",
    "chess_board.add_red()\n",
    "chess_board.render()\n",
    "chess_board.is_under_attack()\n",
    "\n"
   ]
  }
 ],
 "metadata": {
  "interpreter": {
   "hash": "af400ebad9ffbd6b2ad80bf0c71a2704770ea68682e454f84b67da6be65c1b43"
  },
  "kernelspec": {
   "display_name": "Python 3 (ipykernel)",
   "language": "python",
   "name": "python3"
  },
  "language_info": {
   "codemirror_mode": {
    "name": "ipython",
    "version": 3
   },
   "file_extension": ".py",
   "mimetype": "text/x-python",
   "name": "python",
   "nbconvert_exporter": "python",
   "pygments_lexer": "ipython3",
   "version": "3.9.5"
  }
 },
 "nbformat": 4,
 "nbformat_minor": 4
}
